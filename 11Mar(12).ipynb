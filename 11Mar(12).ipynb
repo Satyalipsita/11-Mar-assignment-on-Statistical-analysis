{
 "cells": [
  {
   "cell_type": "code",
   "execution_count": null,
   "id": "110ce5fe-9c3a-4ac1-b751-fa6d979d5b18",
   "metadata": {},
   "outputs": [],
   "source": [
    "To conduct a hypothesis test, we need to first set\n",
    "up the null and alternative hypotheses:\n",
    "\n",
    "Null hypothesis (H0): The population means of samples A and B are equal (μA = μB)\n",
    "Alternative hypothesis (Ha): The population means of samples A and B are not equal (μA ≠ μB)\n",
    "\n",
    "Next, we need to calculate the test statistic and determine the p-value.\n",
    "Since we are comparing two means from independent samples with unknown \n",
    "population variances, we can use the two-sample t-test. The formula for the test statistic is:\n",
    "\n",
    "t = (x̄A - x̄B) / [s√(1/nA + 1/nB)]\n",
    "\n",
    "where x̄A and x̄B are the sample means, s is the pooled standard deviation,\n",
    "and nA and nB are the sample sizes.\n",
    "\n",
    "The pooled standard deviation formula is:\n",
    "\n",
    "s = sqrt[((nA - 1)sA^2 + (nB - 1)sB^2) / (nA + nB - 2)]\n",
    "\n",
    "where sA and sB are the sample standard deviations.\n",
    "\n",
    "Substituting the given values, we get:\n",
    "\n",
    "x̄A = 85\n",
    "sA = 6\n",
    "nA = ?\n",
    "x̄B = 82\n",
    "sB = 5\n",
    "nB = ?\n",
    "significance level = 0.01\n",
    "\n",
    "We are missing the sample sizes for both samples, \n",
    "which are required to calculate the test statistic and p-value. \n",
    "this information, we cannot perform the hypothesis test."
   ]
  }
 ],
 "metadata": {
  "kernelspec": {
   "display_name": "Python 3 (ipykernel)",
   "language": "python",
   "name": "python3"
  },
  "language_info": {
   "codemirror_mode": {
    "name": "ipython",
    "version": 3
   },
   "file_extension": ".py",
   "mimetype": "text/x-python",
   "name": "python",
   "nbconvert_exporter": "python",
   "pygments_lexer": "ipython3",
   "version": "3.10.8"
  }
 },
 "nbformat": 4,
 "nbformat_minor": 5
}
