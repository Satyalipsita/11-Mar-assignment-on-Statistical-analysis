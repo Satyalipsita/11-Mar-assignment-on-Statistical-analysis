{
 "cells": [
  {
   "cell_type": "code",
   "execution_count": null,
   "id": "cb4473f7-9983-4207-a6bd-5cd00b1827d1",
   "metadata": {},
   "outputs": [],
   "source": [
    "To calculate a 95% confidence interval for the sample mean, we need \n",
    "to use the following formula:\n",
    "\n",
    "CI = X̄ ± Z* (σ/√n)\n",
    "\n",
    "where:\n",
    "\n",
    "X̄ is the sample mean (given as 50 in the question)\n",
    "Z* is the critical value from the standard normal distribution \n",
    "corresponding to a 95% confidence level (which is approximately 1.96)\n",
    "σ is the population standard deviation (given as 5 in the question)\n",
    "n is the sample size (not given in the question)\n",
    "Since the sample size (n) is not given, we cannot\n",
    "calculate the confidence interval precisely. However, \n",
    "we can provide an example assuming n=30, which is a \n",
    "common sample size used in many statistical applications.\n",
    "\n",
    "CI = 50 ± 1.96 * (5/√30)\n",
    "\n",
    "CI = 50 ± 1.81\n",
    "\n",
    "So, the 95% confidence interval for the population mean is between 48.19 and 51.81.\n",
    "\n",
    "Interpretation: We can interpret the confidence interval as follows: \n",
    "    If we were to take many random samples of size n=30 from the same\n",
    "    population and compute the sample mean and confidence interval for\n",
    "    each sample, we would expect that approximately 95% of the intervals\n",
    "    would contain the true population mean. Therefore, we can be 95% confident \n",
    "    that the true population mean falls between the range of 48.19 and 51.81."
   ]
  }
 ],
 "metadata": {
  "kernelspec": {
   "display_name": "Python 3 (ipykernel)",
   "language": "python",
   "name": "python3"
  },
  "language_info": {
   "codemirror_mode": {
    "name": "ipython",
    "version": 3
   },
   "file_extension": ".py",
   "mimetype": "text/x-python",
   "name": "python",
   "nbconvert_exporter": "python",
   "pygments_lexer": "ipython3",
   "version": "3.10.8"
  }
 },
 "nbformat": 4,
 "nbformat_minor": 5
}
