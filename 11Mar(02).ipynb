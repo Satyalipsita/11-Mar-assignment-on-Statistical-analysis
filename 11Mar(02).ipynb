{
 "cells": [
  {
   "cell_type": "code",
   "execution_count": null,
   "id": "3eebd5b9-6ccb-43f8-bb15-c74f104a16d6",
   "metadata": {},
   "outputs": [],
   "source": [
    "In hypothesis testing, a one-tailed test (also called a directional test) is a statistical test\n",
    "in which the alternative hypothesis specifies the direction of the expected difference between\n",
    "the population parameter and the null hypothesis. In other words, it tests whether a sample \n",
    "statistic is significantly greater than or less than a specified value in a specific direction.\n",
    "\n",
    "On the other hand, a two-tailed test (also called a non-directional test) is a statistical \n",
    "test in which the alternative hypothesis does not specify the direction of the expected \n",
    "difference between the population parameter and the null hypothesis. In other words, it\n",
    "tests whether a sample statistic is significantly different from a specified value,\n",
    "regardless of the direction of the difference.\n",
    "\n",
    "Here are some examples to illustrate the difference between one-tailed and two-tailed tests:\n",
    "\n",
    "One-Tailed Test:\n",
    "\n",
    "Suppose we want to test the hypothesis that the average height of adult \n",
    "men in a population is greater than 175 cm. We would set up the null\n",
    "hypothesis as H0: μ ≤ 175 and the alternative hypothesis as Ha: μ > 175.\n",
    "This is a one-tailed test since the alternative hypothesis specifies the direction\n",
    "of the expected difference between the population parameter and the null hypothesis (i.e., greater than).\n",
    "\n",
    "Two-Tailed Test:\n",
    "\n",
    "Suppose we want to test the hypothesis \n",
    "that the average weight of a new medication \n",
    "does not differ from 10 mg. We would set up \n",
    "the null hypothesis as H0: μ = 10 and the \n",
    "alternative hypothesis as Ha: μ ≠ 10. This is a two-tailed test since the\n",
    "alternative hypothesis does not specify the direction of the expected\n",
    "difference between the population parameter and the null hypothesis\n",
    "(i.e., it could be greater than or less than).\n",
    "\n",
    "In general, a one-tailed test is used when there is a\n",
    "specific directional hypothesis, whereas a two-tailed \n",
    "test is used when there is no specific directional \n",
    "hypothesis or when the hypothesis can go in either \n",
    "direction. It is important to specify the type of \n",
    "test before conducting the hypothesis test as it affects \n",
    "the calculation of the p-value and the decision-making process."
   ]
  }
 ],
 "metadata": {
  "kernelspec": {
   "display_name": "Python 3 (ipykernel)",
   "language": "python",
   "name": "python3"
  },
  "language_info": {
   "codemirror_mode": {
    "name": "ipython",
    "version": 3
   },
   "file_extension": ".py",
   "mimetype": "text/x-python",
   "name": "python",
   "nbconvert_exporter": "python",
   "pygments_lexer": "ipython3",
   "version": "3.10.8"
  }
 },
 "nbformat": 4,
 "nbformat_minor": 5
}
