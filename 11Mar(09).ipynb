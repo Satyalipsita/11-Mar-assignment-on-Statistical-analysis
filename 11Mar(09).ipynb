{
 "cells": [
  {
   "cell_type": "code",
   "execution_count": null,
   "id": "93d88a71-7102-4d29-8f06-aa6864c7d169",
   "metadata": {},
   "outputs": [],
   "source": [
    "To calculate the z-score for the sample mean,\n",
    "we can use the following formula:\n",
    "\n",
    "z = (X̄ - μ) / (σ / √n)\n",
    "\n",
    "where X̄ is the sample mean, μ is the population mean, \n",
    "σ is the population standard deviation, and n is the sample size.\n",
    "\n",
    "Plugging in the values given in the question, we get:\n",
    "\n",
    "z = (75 - 70) / (5 / √1) = 1\n",
    "\n",
    "So the z-score for the sample mean is 1.\n",
    "\n",
    "Interpretation: The z-score of 1 means that the\n",
    "sample mean is one standard deviation above the\n",
    "population mean. This indicates that the sample is \n",
    "relatively larger than the population mean. \n",
    "The z-score can be used to calculate the \n",
    "of observing a sample mean as large or larger t\n",
    "han the one observed, assuming that the population\n",
    "mean and standard deviation are accurate. We can also use \n",
    "the z-score to compare the sample mean to other samples \n",
    "taken from the same population or to compare samples taken from different populations."
   ]
  }
 ],
 "metadata": {
  "kernelspec": {
   "display_name": "Python 3 (ipykernel)",
   "language": "python",
   "name": "python3"
  },
  "language_info": {
   "codemirror_mode": {
    "name": "ipython",
    "version": 3
   },
   "file_extension": ".py",
   "mimetype": "text/x-python",
   "name": "python",
   "nbconvert_exporter": "python",
   "pygments_lexer": "ipython3",
   "version": "3.10.8"
  }
 },
 "nbformat": 4,
 "nbformat_minor": 5
}
