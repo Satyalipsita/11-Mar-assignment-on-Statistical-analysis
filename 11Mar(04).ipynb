{
 "cells": [
  {
   "cell_type": "code",
   "execution_count": null,
   "id": "9701d2fe-6023-48a2-bd7a-d6113b5615fa",
   "metadata": {},
   "outputs": [],
   "source": [
    "Bayes' theorem is a mathematical formula used to calculate conditional probabilities. \n",
    "It states that the probability of an event A occurring, given that event B has occurred,\n",
    "is equal to the probability of event B occurring given that event A has occurred,\n",
    "multiplied by the probability of event A occurring, divided by the probability of event B occurring.\n",
    "\n",
    "Here is the mathematical formula for Bayes' theorem:\n",
    "\n",
    "P(A|B) = P(B|A) * P(A) / P(B)\n",
    "\n",
    "where:\n",
    "P(A|B) is the probability of event A occurring given that event B has occurred,\n",
    "P(B|A) is the probability of event B occurring given that event A has occurred,\n",
    "P(A) is the prior probability of event A occurring, and\n",
    "P(B) is the prior probability of event B occurring.\n",
    "\n",
    "Here is an example to illustrate Bayes' theorem:\n",
    "\n",
    "Suppose a certain medical test for a rare disease has a 5% false positive rate\n",
    "(meaning that it falsely identifies 5% of healthy people as having the disease) \n",
    "and a 2% false negative rate (meaning that it falsely identifies 2% of people \n",
    "with the disease as not having it). Suppose also that the disease occurs in 0.1% of the population.\n",
    "\n",
    "Now, suppose a patient tests positive for the disease. \n",
    "What is the probability that the patient actually has the disease?\n",
    "\n",
    "Using Bayes' theorem, we can calculate the probability as follows:\n",
    "\n",
    "P(Disease|Positive) = P(Positive|Disease) * P(Disease) / P(Positive)\n",
    "\n",
    "where:\n",
    "P(Disease|Positive) is the probability of having the disease given a positive test result,\n",
    "P(Positive|Disease) is the probability of testing positive given that the patient has the disease, \n",
    "which is 1 - false negative rate = 1 - 0.02 = 0.98,\n",
    "P(Disease) is the prior probability of having the disease, which is 0.001,\n",
    "P(Positive) is the probability of testing positive, which is the sum\n",
    "of the probability of a true positive and the probability of a false positive:\n",
    "    P(Positive) = P(Positive|Disease) * P(Disease) + P(Positive|No Disease) * P(No Disease)\n",
    "\n",
    "P(Positive|No Disease) is the false positive rate, which is 0.05\n",
    "P(No Disease) is the complement of the disease rate, which is 1 - P(Disease) = 1 - 0.001 = 0.999\n",
    "\n",
    "Thus, P(Positive) = 0.98 * 0.001 + 0.05 * 0.999 = 0.05094\n",
    "\n",
    "Plugging in these values, we get:\n",
    "\n",
    "P(Disease|Positive) = 0.98 * 0.001 / 0.05094 = 0.0192\n",
    "\n",
    "Therefore, the probability that the patient actually has\n",
    "the disease given a positive test result is approximately 1.9%.\n",
    "\n",
    "This example shows how Bayes' theorem can be \n",
    "used to update the probability of a hypothesis \n",
    "(having the disease) given new evidence (a positive test result) based on"
   ]
  }
 ],
 "metadata": {
  "kernelspec": {
   "display_name": "Python 3 (ipykernel)",
   "language": "python",
   "name": "python3"
  },
  "language_info": {
   "codemirror_mode": {
    "name": "ipython",
    "version": 3
   },
   "file_extension": ".py",
   "mimetype": "text/x-python",
   "name": "python",
   "nbconvert_exporter": "python",
   "pygments_lexer": "ipython3",
   "version": "3.10.8"
  }
 },
 "nbformat": 4,
 "nbformat_minor": 5
}
