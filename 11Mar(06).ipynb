{
 "cells": [
  {
   "cell_type": "code",
   "execution_count": null,
   "id": "ad472c52-2b42-4d8c-ab55-0320b99613e7",
   "metadata": {},
   "outputs": [],
   "source": [
    "Suppose that a certain medical test is known to correctly identify 95% of people who have a particular disease, and also has a 2% false positive rate (meaning that 2% of people who do not have the disease will test positive anyway). The prevalence of the disease in the population is known to be 0.5%. If a person tests positive for the disease, what is the probability that they actually have it?\n",
    "\n",
    "Solution:\n",
    "\n",
    "Let's define the following events:\n",
    "\n",
    "A = the event that a person has the disease\n",
    "B = the event that a person tests positive for the disease\n",
    "\n",
    "We want to calculate the probability of event A given event B, using Bayes' theorem:\n",
    "\n",
    "P(A|B) = P(B|A) * P(A) / P(B)\n",
    "\n",
    "where P(B|A) is the probability of testing positive given that the person \n",
    "has the disease, P(A) is the prior probability of having the disease, \n",
    "and P(B) is the probability of testing positive.\n",
    "\n",
    "We know that P(A) = 0.005 (prevalence of the disease) and P(B|A) = 0.95 (sensitivity of the test).\n",
    "\n",
    "To calculate P(B), we need to consider two cases:\n",
    "\n",
    "A person has the disease and tests positive (true positive)\n",
    "A person does not have the disease and tests positive (false positive)\n",
    "The probability of case 1 is:\n",
    "\n",
    "P(B and A) = P(B|A) * P(A) = 0.95 * 0.005 = 0.00475\n",
    "\n",
    "The probability of case 2 is:\n",
    "\n",
    "P(B and not A) = P(B|not A) * P(not A) = 0.02 * 0.995 = 0.0199\n",
    "\n",
    "Therefore, the total probability of testing positive is:\n",
    "\n",
    "P(B) = P(B and A) + P(B and not A) = 0.00475 + 0.0199 = 0.02465\n",
    "\n",
    "Now we can substitute all the values into Bayes' theorem:\n",
    "\n",
    "P(A|B) = P(B|A) * P(A) / P(B)\n",
    "P(A|B) = 0.95 * 0.005 / 0.02465\n",
    "P(A|B) = 0.193\n",
    "\n",
    "Therefore, the probability of a person having the disease\n",
    "given that they tested positive is approximately 19.3%. \n",
    "This shows that even if a person tests positive for the \n",
    "disease, there is still a relatively low chance that they \n",
    "actually have it, due to the low prevalence of the disease and the possibility of false positives."
   ]
  }
 ],
 "metadata": {
  "kernelspec": {
   "display_name": "Python 3 (ipykernel)",
   "language": "python",
   "name": "python3"
  },
  "language_info": {
   "codemirror_mode": {
    "name": "ipython",
    "version": 3
   },
   "file_extension": ".py",
   "mimetype": "text/x-python",
   "name": "python",
   "nbconvert_exporter": "python",
   "pygments_lexer": "ipython3",
   "version": "3.10.8"
  }
 },
 "nbformat": 4,
 "nbformat_minor": 5
}
