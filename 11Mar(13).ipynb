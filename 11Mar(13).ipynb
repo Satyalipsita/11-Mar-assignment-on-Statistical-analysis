{
 "cells": [
  {
   "cell_type": "code",
   "execution_count": null,
   "id": "b54a4944-3452-46d8-85d0-aaecafcc77fa",
   "metadata": {},
   "outputs": [],
   "source": [
    "To calculate a 95% confidence interval for the population mean, we can use the following formula:\n",
    "\n",
    "Confidence interval = sample mean +/- margin of error\n",
    "\n",
    "where the margin of error is calculated as:\n",
    "\n",
    "Margin of error = critical value x standard error\n",
    "\n",
    "The critical value can be found using a t-table or a calculator.\n",
    "For a 95% confidence interval with 49 degrees of\n",
    "freedom (df = n-1), the critical value is approximately 2.009.\n",
    "\n",
    "The standard error can be calculated as:\n",
    "\n",
    "Standard error = population standard deviation / sqrt(sample size)\n",
    "\n",
    "Substituting the given values, we get:\n",
    "\n",
    "Population mean (μ) = 60\n",
    "Population standard deviation (σ) = 8\n",
    "Sample size (n) = 50\n",
    "Sample mean (x̄) = 65\n",
    "Degrees of freedom (df) = n - 1 = 49\n",
    "Critical value (t*) = 2.009\n",
    "\n",
    "Standard error = σ / sqrt(n) = 8 / sqrt(50) ≈ 1.131\n",
    "\n",
    "Margin of error = t* x standard error = 2.009 x 1.131 ≈ 2.273\n",
    "\n",
    "Confidence interval = x̄ ± margin of error = 65 ± 2.273"
   ]
  }
 ],
 "metadata": {
  "kernelspec": {
   "display_name": "Python 3 (ipykernel)",
   "language": "python",
   "name": "python3"
  },
  "language_info": {
   "codemirror_mode": {
    "name": "ipython",
    "version": 3
   },
   "file_extension": ".py",
   "mimetype": "text/x-python",
   "name": "python",
   "nbconvert_exporter": "python",
   "pygments_lexer": "ipython3",
   "version": "3.10.8"
  }
 },
 "nbformat": 4,
 "nbformat_minor": 5
}
