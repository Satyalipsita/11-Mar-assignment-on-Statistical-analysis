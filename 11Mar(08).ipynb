{
 "cells": [
  {
   "cell_type": "code",
   "execution_count": null,
   "id": "a68343d3-ff6b-40d4-9a6c-fada9ee7c147",
   "metadata": {},
   "outputs": [],
   "source": [
    "Margin of error is the amount by which the upper and lower bounds \n",
    "of a confidence interval differ from the point estimate of a population parameter.\n",
    "It is a measure of the precision of the interval estimate and \n",
    "represents the degree of uncertainty associated with the estimation of the population parameter.\n",
    "\n",
    "To calculate the margin of error, we can use the following formula:\n",
    "\n",
    "Margin of error = Z* (σ/√n)\n",
    "\n",
    "where Z* is the critical value from the standard normal distribution\n",
    "corresponding to the desired level of confidence, σ is the population \n",
    "standard deviation, and n is the sample size.\n",
    "\n",
    "Using the same example as before (sample mean = 50, σ = 5, n = 30, and\n",
    "confidence level = 95%), we can calculate the margin of error as follows:\n",
    "\n",
    "Margin of error = 1.96 * (5/√30) ≈ 1.81\n",
    "\n",
    "So the margin of error is approximately 1.81. This means that we can be 95% \n",
    "confident that the true population mean falls within the interval of 50 ± 1.81. \n",
    "The wider the confidence interval, the larger the margin of error, and the greater t\n",
    "he uncertainty associated with the estimation of the population parameter. Conversely, \n",
    "the narrower the confidence interval, the smaller the margin of error, and the greater \n",
    "the precision of the interval estimate."
   ]
  }
 ],
 "metadata": {
  "kernelspec": {
   "display_name": "Python 3 (ipykernel)",
   "language": "python",
   "name": "python3"
  },
  "language_info": {
   "codemirror_mode": {
    "name": "ipython",
    "version": 3
   },
   "file_extension": ".py",
   "mimetype": "text/x-python",
   "name": "python",
   "nbconvert_exporter": "python",
   "pygments_lexer": "ipython3",
   "version": "3.10.8"
  }
 },
 "nbformat": 4,
 "nbformat_minor": 5
}
