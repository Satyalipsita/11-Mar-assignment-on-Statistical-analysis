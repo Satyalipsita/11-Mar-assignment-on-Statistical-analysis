{
 "cells": [
  {
   "cell_type": "code",
   "execution_count": null,
   "id": "d02e80d0-6b7d-4d67-92d0-9f86d87ec4f1",
   "metadata": {},
   "outputs": [],
   "source": [
    "To calculate the 95% confidence interval for the true proportion of \n",
    "people who are satisfied with their jobs in the population, we can use the following formula:\n",
    "\n",
    "Confidence interval = sample proportion +/- margin of error\n",
    "\n",
    "where\n",
    "\n",
    "sample proportion = number of people satisfied with their jobs / total sample size\n",
    "\n",
    "margin of error = critical value x standard error\n",
    "\n",
    "The critical value can be found using a z-table or a calculator, and for \n",
    "a 95% confidence level, it is 1.96.\n",
    "\n",
    "The standard error can be calculated as follows:\n",
    "\n",
    "standard error = square root [(sample proportion x (1 - sample proportion)) / sample size]\n",
    "\n",
    "Substituting the given values, we get:\n",
    "\n",
    "sample proportion = 0.65\n",
    "total sample size = 500\n",
    "critical value = 1.96\n",
    "standard error = square root [(0.65 x 0.35) / 500] = 0.0318\n",
    "\n",
    "Now we can substitute these values into the formula to get the confidence interval:\n",
    "\n",
    "Confidence interval = 0.65 +/- 1.96 x 0.0318\n",
    "\n",
    "Confidence interval = (0.5896, 0.7104)\n",
    "\n",
    "Therefore, we can say with 95% confidence that the true proportion \n",
    "of people who are satisfied with their jobs in the population lies between 0.5896 and 0.7104.\n",
    "\n",
    "\n",
    "\n"
   ]
  }
 ],
 "metadata": {
  "kernelspec": {
   "display_name": "Python 3 (ipykernel)",
   "language": "python",
   "name": "python3"
  },
  "language_info": {
   "codemirror_mode": {
    "name": "ipython",
    "version": 3
   },
   "file_extension": ".py",
   "mimetype": "text/x-python",
   "name": "python",
   "nbconvert_exporter": "python",
   "pygments_lexer": "ipython3",
   "version": "3.10.8"
  }
 },
 "nbformat": 4,
 "nbformat_minor": 5
}
