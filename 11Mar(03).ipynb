{
 "cells": [
  {
   "cell_type": "code",
   "execution_count": null,
   "id": "658459d3-4a04-4aa8-ac88-583b0c41b671",
   "metadata": {},
   "outputs": [],
   "source": [
    "In hypothesis testing, there are two types of errors that can occur: \n",
    "Type I error and Type II error.\n",
    "\n",
    "Type I error, also called a false positive, \n",
    "occurs when we reject the null hypothesis when\n",
    "it is actually true. In other words, we conclude that there is a significant effect or\n",
    "difference between groups when there is no such effect or difference in reality. \n",
    "The probability of making a Type I error is denoted by alpha (α) and is typically \n",
    "set at 0.05 (5%) in most statistical tests.\n",
    "\n",
    "Type II error, also called a false negative, \n",
    "occurs when we fail to reject the null hypothesis when it is actually false. \n",
    "In other words, we conclude that there is no significant effect or difference \n",
    "between groups when there is actually an effect or difference in reality. \n",
    "The probability of making a Type II error is denoted by beta (β).\n",
    "\n",
    "\n",
    "The relationship between Type I and Type II errors is inversely proportional,\n",
    "meaning that reducing the probability of one type of error \n",
    "increases the probability of the other type of error. \n",
    "In other words, the more we try to reduce the probability\n",
    "of a Type I error, the more likely we are to make a Type II error, and vice versa.\n",
    "\n",
    "Here is an example to illustrate Type I and Type II errors:\n",
    "\n",
    "Suppose we want to test the hypothesis that a new drug is\n",
    "effective in reducing blood pressure. We set up our null hypothesis as H0: the drug has no effect on blood p\n",
    "ressure, and our alternative hypothesis as Ha: the drug is effective in reducing blood pressure.\n",
    "\n",
    "Type I error: We reject the null hypothesis (i.e., conclude that the drug is effective) \n",
    "when it is actually false (i.e., the drug has no effect).\n",
    "This would lead to the incorrect conclusion that the drug \n",
    "is effective in reducing blood pressure when it is not, \n",
    "leading to unnecessary medical treatments, expenses, and\n",
    "potential side effects.\n",
    "Type II error: We fail to reject the null hypothesis \n",
    "(i.e., conclude that the drug has no effect) when it is \n",
    "actually true (i.e., the drug is effective). This would \n",
    "lead to the incorrect conclusion that the drug is not \n",
    "effective in reducing blood pressure when it is, \n",
    "leading to missed opportunities for effective treatment and potentially \n",
    "adverse health outcomes.\n",
    "In summary, Type I error occurs when we falsely reject the null hypothesis,\n",
    "and Type II error occurs when we falsely fail to reject the null hypothesis.\n",
    "The goal of hypothesis testing is to minimize both types of errors by choosing \n",
    "an appropriate significance level, sample size, and statistical power."
   ]
  }
 ],
 "metadata": {
  "kernelspec": {
   "display_name": "Python 3 (ipykernel)",
   "language": "python",
   "name": "python3"
  },
  "language_info": {
   "codemirror_mode": {
    "name": "ipython",
    "version": 3
   },
   "file_extension": ".py",
   "mimetype": "text/x-python",
   "name": "python",
   "nbconvert_exporter": "python",
   "pygments_lexer": "ipython3",
   "version": "3.10.8"
  }
 },
 "nbformat": 4,
 "nbformat_minor": 5
}
